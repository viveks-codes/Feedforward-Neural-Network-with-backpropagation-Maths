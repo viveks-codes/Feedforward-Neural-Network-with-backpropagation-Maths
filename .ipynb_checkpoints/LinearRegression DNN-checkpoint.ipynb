{
 "cells": [
  {
   "cell_type": "markdown",
   "id": "c0488a4a",
   "metadata": {},
   "source": [
    "# Introduction\n",
    "The focus of this notebook will be on implementation of linear regression from scratch. The key issue is to forecast the how much time an woman athlete will take to complete 100 Meter race, base don historical trends.hence it is a very rough idea to determine of what will be happened.\n",
    "\n",
    "Source:https://github.com/viveks-codes/Machine-learning-Deep-Learning-Python-Hand-written-notes-and-notebooks/blob/main/notebooks/data/DataWoman.csv\n",
    "\n",
    "<font color='red'>Vivek Patel</font>"
   ]
  },
  {
   "cell_type": "markdown",
   "id": "e0fbeb36",
   "metadata": {},
   "source": [
    "# What is the problem statement?\n",
    "dataset is given :\n",
    "\n",
    "The goal is to create a simple forecast of the year given by the client/user and hence the time taken by woman athlete and it's performance by understanding the link between year and their impact of time(sec) taken by woman athlete using linear Model using PyTorch"
   ]
  },
  {
   "cell_type": "markdown",
   "id": "2913a379",
   "metadata": {},
   "source": [
    "# Assumptions made\n",
    "That time taken by woman athlete moves purely based on year. However, we understand that time taken by woman athlete can be affected by multiple different reasons and analysts often obtain information much earlier that journalists."
   ]
  },
  {
   "cell_type": "markdown",
   "id": "5ff16326",
   "metadata": {},
   "source": [
    "# Steps\n",
    "- **Import dataset and required libraries**\n",
    "- **Perform EDA**\n",
    "- **convert whole dataset into numpy array**\n",
    "- **apply random_split data and get**\n",
    "- **move train dataset and validation dataset into DataLoader**\n",
    "- **Define Model**\n",
    "- **Train the model to fit the data**\n",
    "- **Make predictions using the trained mode**\n",
    "\n",
    "take year as input from user and forcast time taken by woman athlete to complete 100 meter race."
   ]
  },
  {
   "cell_type": "code",
   "execution_count": 1,
   "id": "6cb7b586",
   "metadata": {
    "scrolled": true
   },
   "outputs": [
    {
     "name": "stdout",
     "output_type": "stream",
     "text": [
      "Looking in links: https://download.pytorch.org/whl/torch_stable.html\n",
      "Requirement already satisfied: numpy in /home/vivek/.local/lib/python3.8/site-packages (1.21.2)\n",
      "Requirement already satisfied: matplotlib in /home/vivek/.local/lib/python3.8/site-packages (3.4.3)\n",
      "Requirement already satisfied: pandas in /home/vivek/.local/lib/python3.8/site-packages (1.3.3)\n",
      "Requirement already satisfied: torch==1.7.0+cpu in /home/vivek/.local/lib/python3.8/site-packages (1.7.0+cpu)\n",
      "Requirement already satisfied: python-dateutil>=2.7 in /home/vivek/.local/lib/python3.8/site-packages (from matplotlib) (2.8.2)\n",
      "Requirement already satisfied: kiwisolver>=1.0.1 in /home/vivek/.local/lib/python3.8/site-packages (from matplotlib) (1.3.2)\n",
      "Requirement already satisfied: pillow>=6.2.0 in /usr/lib/python3/dist-packages (from matplotlib) (7.0.0)\n",
      "Requirement already satisfied: pyparsing>=2.2.1 in /home/vivek/.local/lib/python3.8/site-packages (from matplotlib) (2.4.7)\n",
      "Requirement already satisfied: cycler>=0.10 in /home/vivek/.local/lib/python3.8/site-packages (from matplotlib) (0.10.0)\n",
      "Requirement already satisfied: pytz>=2017.3 in /home/vivek/.local/lib/python3.8/site-packages (from pandas) (2021.1)\n",
      "Requirement already satisfied: dataclasses in /home/vivek/.local/lib/python3.8/site-packages (from torch==1.7.0+cpu) (0.6)\n",
      "Requirement already satisfied: future in /home/vivek/.local/lib/python3.8/site-packages (from torch==1.7.0+cpu) (0.18.2)\n",
      "Requirement already satisfied: typing-extensions in /home/vivek/.local/lib/python3.8/site-packages (from torch==1.7.0+cpu) (3.10.0.2)\n",
      "Requirement already satisfied: six>=1.5 in /usr/lib/python3/dist-packages (from python-dateutil>=2.7->matplotlib) (1.14.0)\n"
     ]
    }
   ],
   "source": [
    "!pip install numpy matplotlib pandas torch==1.7.0+cpu -f https://download.pytorch.org/whl/torch_stable.html"
   ]
  },
  {
   "cell_type": "code",
   "execution_count": 2,
   "id": "0d82875b",
   "metadata": {},
   "outputs": [],
   "source": [
    "import numpy  as np\n",
    "import pandas as pd\n",
    "import torch\n",
    "import torch.nn as nn\n",
    "import matplotlib.pyplot as plt\n",
    "import torch.nn.functional as F\n",
    "from torch.utils.data import DataLoader, TensorDataset, random_split"
   ]
  },
  {
   "cell_type": "code",
   "execution_count": 3,
   "id": "e439aabb",
   "metadata": {},
   "outputs": [
    {
     "data": {
      "text/html": [
       "<div>\n",
       "<style scoped>\n",
       "    .dataframe tbody tr th:only-of-type {\n",
       "        vertical-align: middle;\n",
       "    }\n",
       "\n",
       "    .dataframe tbody tr th {\n",
       "        vertical-align: top;\n",
       "    }\n",
       "\n",
       "    .dataframe thead th {\n",
       "        text-align: right;\n",
       "    }\n",
       "</style>\n",
       "<table border=\"1\" class=\"dataframe\">\n",
       "  <thead>\n",
       "    <tr style=\"text-align: right;\">\n",
       "      <th></th>\n",
       "      <th>X</th>\n",
       "      <th>Y</th>\n",
       "    </tr>\n",
       "  </thead>\n",
       "  <tbody>\n",
       "    <tr>\n",
       "      <th>0</th>\n",
       "      <td>1928</td>\n",
       "      <td>12.20</td>\n",
       "    </tr>\n",
       "    <tr>\n",
       "      <th>1</th>\n",
       "      <td>1932</td>\n",
       "      <td>11.90</td>\n",
       "    </tr>\n",
       "    <tr>\n",
       "      <th>2</th>\n",
       "      <td>1936</td>\n",
       "      <td>11.15</td>\n",
       "    </tr>\n",
       "    <tr>\n",
       "      <th>3</th>\n",
       "      <td>1948</td>\n",
       "      <td>11.90</td>\n",
       "    </tr>\n",
       "    <tr>\n",
       "      <th>4</th>\n",
       "      <td>1952</td>\n",
       "      <td>11.50</td>\n",
       "    </tr>\n",
       "  </tbody>\n",
       "</table>\n",
       "</div>"
      ],
      "text/plain": [
       "      X      Y\n",
       "0  1928  12.20\n",
       "1  1932  11.90\n",
       "2  1936  11.15\n",
       "3  1948  11.90\n",
       "4  1952  11.50"
      ]
     },
     "execution_count": 3,
     "metadata": {},
     "output_type": "execute_result"
    }
   ],
   "source": [
    "dataframe = pd.read_csv('DataWoman.csv')\n",
    "dataframe.head()"
   ]
  },
  {
   "cell_type": "code",
   "execution_count": 4,
   "id": "26a5521f",
   "metadata": {},
   "outputs": [
    {
     "name": "stdout",
     "output_type": "stream",
     "text": [
      "21\n"
     ]
    }
   ],
   "source": [
    "num_rows = dataframe.shape[0]\n",
    "print(num_rows)"
   ]
  },
  {
   "cell_type": "code",
   "execution_count": 5,
   "id": "2bf74837",
   "metadata": {},
   "outputs": [
    {
     "name": "stdout",
     "output_type": "stream",
     "text": [
      "2\n"
     ]
    }
   ],
   "source": [
    "num_cols = dataframe.shape[1]\n",
    "print(num_cols)"
   ]
  },
  {
   "cell_type": "code",
   "execution_count": 6,
   "id": "d09941f0",
   "metadata": {},
   "outputs": [
    {
     "data": {
      "text/plain": [
       "['X']"
      ]
     },
     "execution_count": 6,
     "metadata": {},
     "output_type": "execute_result"
    }
   ],
   "source": [
    "input_cols = list(dataframe.columns)\n",
    "input_cols = input_cols[:-1]\n",
    "input_cols"
   ]
  },
  {
   "cell_type": "code",
   "execution_count": 7,
   "id": "24b897ec",
   "metadata": {},
   "outputs": [],
   "source": [
    "output_cols = ['Y']"
   ]
  },
  {
   "cell_type": "markdown",
   "id": "2cc59070",
   "metadata": {},
   "source": [
    "# Prepare the dataset for training\n",
    "\n",
    "**We need to convert the data from the Pandas dataframe into a PyTorch tensors for training. To do this, the first step is to convert it numpy arrays. If you've filled out input_cols, and output_cols correctly, this following function will perform the conversion to numpy arrays.**"
   ]
  },
  {
   "cell_type": "code",
   "execution_count": 8,
   "id": "3a7312c6",
   "metadata": {},
   "outputs": [],
   "source": [
    "def dataframe_to_arrays(dataframe):\n",
    "    # Make a copy of the original dataframe\n",
    "    dataframe1 = dataframe.copy(deep=True)\n",
    "    # Convert non-numeric categorical columns to numbers\n",
    "#     for col in categorical_cols:\n",
    "#         dataframe1[col] = dataframe1[col].astype('category').cat.codes\n",
    "    # Extract input & outupts as numpy arrays\n",
    "    inputs_array = dataframe1[input_cols].to_numpy()\n",
    "    targets_array = dataframe1[output_cols].to_numpy()\n",
    "    return inputs_array, targets_array"
   ]
  },
  {
   "cell_type": "code",
   "execution_count": 9,
   "id": "1d264e6c",
   "metadata": {},
   "outputs": [
    {
     "data": {
      "text/plain": [
       "(array([[1928],\n",
       "        [1932],\n",
       "        [1936],\n",
       "        [1948],\n",
       "        [1952],\n",
       "        [1956],\n",
       "        [1960],\n",
       "        [1964],\n",
       "        [1968],\n",
       "        [1972],\n",
       "        [1976],\n",
       "        [1980],\n",
       "        [1984],\n",
       "        [1988],\n",
       "        [1992],\n",
       "        [1996],\n",
       "        [2000],\n",
       "        [2004],\n",
       "        [2008],\n",
       "        [2012],\n",
       "        [2016]]),\n",
       " array([[12.2 ],\n",
       "        [11.9 ],\n",
       "        [11.15],\n",
       "        [11.9 ],\n",
       "        [11.5 ],\n",
       "        [11.5 ],\n",
       "        [11.  ],\n",
       "        [11.4 ],\n",
       "        [11.  ],\n",
       "        [11.07],\n",
       "        [11.08],\n",
       "        [11.06],\n",
       "        [10.97],\n",
       "        [10.54],\n",
       "        [10.82],\n",
       "        [10.94],\n",
       "        [11.12],\n",
       "        [10.93],\n",
       "        [10.78],\n",
       "        [10.75],\n",
       "        [10.71]]))"
      ]
     },
     "execution_count": 9,
     "metadata": {},
     "output_type": "execute_result"
    }
   ],
   "source": [
    "inputs_array, targets_array = dataframe_to_arrays(dataframe)\n",
    "inputs_array, targets_array"
   ]
  },
  {
   "cell_type": "code",
   "execution_count": 10,
   "id": "705455ba",
   "metadata": {},
   "outputs": [],
   "source": [
    "inputs = torch.from_numpy(inputs_array)\n",
    "targets = torch.from_numpy(targets_array)\n",
    "\n",
    "inputs = inputs.to(torch.float32)\n",
    "targets = targets.to(torch.float32)"
   ]
  },
  {
   "cell_type": "code",
   "execution_count": 11,
   "id": "7d29d08c",
   "metadata": {},
   "outputs": [
    {
     "data": {
      "text/plain": [
       "(torch.float32, torch.float32)"
      ]
     },
     "execution_count": 11,
     "metadata": {},
     "output_type": "execute_result"
    }
   ],
   "source": [
    "inputs.dtype, targets.dtype"
   ]
  },
  {
   "cell_type": "markdown",
   "id": "0177c8d9",
   "metadata": {},
   "source": [
    "Next, we need to create PyTorch datasets & data loaders for training & validation. We'll start by creating a `TensorDataset`."
   ]
  },
  {
   "cell_type": "code",
   "execution_count": 12,
   "id": "1df1101a",
   "metadata": {},
   "outputs": [],
   "source": [
    "dataset = TensorDataset(inputs, targets)"
   ]
  },
  {
   "cell_type": "code",
   "execution_count": 13,
   "id": "b51d3d61",
   "metadata": {},
   "outputs": [
    {
     "data": {
      "text/plain": [
       "21"
      ]
     },
     "execution_count": 13,
     "metadata": {},
     "output_type": "execute_result"
    }
   ],
   "source": [
    "len(dataset)"
   ]
  },
  {
   "cell_type": "code",
   "execution_count": 14,
   "id": "3e6fa2e4",
   "metadata": {},
   "outputs": [
    {
     "data": {
      "text/plain": [
       "torch.utils.data.dataset.TensorDataset"
      ]
     },
     "execution_count": 14,
     "metadata": {},
     "output_type": "execute_result"
    }
   ],
   "source": [
    "type(dataset)"
   ]
  },
  {
   "cell_type": "code",
   "execution_count": 45,
   "id": "f334dc4a",
   "metadata": {},
   "outputs": [
    {
     "data": {
      "image/png": "[encoded data removed]",
      "text/plain": [
       "<Figure size 864x576 with 2 Axes>"
      ]
     },
     "metadata": {
      "needs_background": "light"
     },
     "output_type": "display_data"
    }
   ],
   "source": [
    "import seaborn as sns\n",
    "fig, ax = plt.subplots(1, figsize=(12,8))\n",
    "plt.tick_params(axis='both', which='major', labelsize=15, labelbottom = False, bottom=False, top = False, labeltop=True)\n",
    "ax = sns.heatmap(data=dataframe,cmap=\"cividis\",annot=True,fmt='g')"
   ]
  },
  {
   "cell_type": "markdown",
   "id": "a0f5b7fb",
   "metadata": {},
   "source": [
    "# Let's apply random split on dataset"
   ]
  },
  {
   "cell_type": "code",
   "execution_count": 15,
   "id": "5b49013a",
   "metadata": {},
   "outputs": [],
   "source": [
    "from torch.utils.data import random_split\n",
    "\n",
    "val_percent = 0.1 # between 0.1 and 0.2\n",
    "val_size = int(num_rows * val_percent)\n",
    "train_size = num_rows - val_size\n",
    "\n",
    "train_ds, val_ds = random_split(dataset, [18,3])"
   ]
  },
  {
   "cell_type": "markdown",
   "id": "8267010c",
   "metadata": {},
   "source": [
    "Finally, we can create data loaders for training & validation."
   ]
  },
  {
   "cell_type": "code",
   "execution_count": 16,
   "id": "9a14be1e",
   "metadata": {},
   "outputs": [],
   "source": [
    "batch_size = 3\n",
    "train_loader = DataLoader(train_ds, batch_size, shuffle=True)\n",
    "val_loader = DataLoader(val_ds, batch_size)"
   ]
  },
  {
   "cell_type": "markdown",
   "id": "eb493cf0",
   "metadata": {},
   "source": [
    "Let's look at a batch of data to verify everything is working fine so far."
   ]
  },
  {
   "cell_type": "code",
   "execution_count": 17,
   "id": "bd02a2c1",
   "metadata": {},
   "outputs": [
    {
     "name": "stdout",
     "output_type": "stream",
     "text": [
      "inputs: tensor([[2016.],\n",
      "        [2000.],\n",
      "        [2012.]])\n",
      "targets: tensor([[10.7100],\n",
      "        [11.1200],\n",
      "        [10.7500]])\n"
     ]
    }
   ],
   "source": [
    "for xb, yb in train_loader:\n",
    "    print(\"inputs:\", xb)\n",
    "    print(\"targets:\", yb)\n",
    "    break"
   ]
  },
  {
   "cell_type": "markdown",
   "id": "688ce415",
   "metadata": {},
   "source": [
    "# Create a Linear Regression Model\n",
    "\n",
    "Our model itself is a fairly straightforward linear regression."
   ]
  },
  {
   "cell_type": "code",
   "execution_count": 18,
   "id": "760dd941",
   "metadata": {},
   "outputs": [],
   "source": [
    "input_size = len(input_cols)\n",
    "output_size = len(output_cols)"
   ]
  },
  {
   "cell_type": "markdown",
   "id": "8926ad88",
   "metadata": {},
   "source": [
    "Think carefully about picking a good loss fuction (it's not cross entropy). Maybe try 2-3 of them and see which one works best. See https://pytorch.org/docs/stable/nn.functional.html#loss-functions I've taken mean squeared error as loss fn"
   ]
  },
  {
   "cell_type": "code",
   "execution_count": 19,
   "id": "72451a6e",
   "metadata": {},
   "outputs": [],
   "source": [
    "class WomanModel(nn.Module):\n",
    "    def __init__(self):\n",
    "        super().__init__()\n",
    "        self.linear = nn.Linear(input_size, output_size)                  \n",
    "    def forward(self, xb):\n",
    "        xb = xb\n",
    "        out = self.linear(xb)\n",
    "        return out\n",
    "    \n",
    "    def training_step(self, batch):\n",
    "        inputs, targets = batch \n",
    "        # Generate predictions\n",
    "        out = self(inputs)          \n",
    "        # Calcuate loss\n",
    "        loss = F.l1_loss(out, targets)                          \n",
    "        return loss\n",
    "    \n",
    "    def validation_step(self, batch):\n",
    "        inputs, targets = batch\n",
    "        # Generate predictions\n",
    "        out = self(inputs)\n",
    "        # Calculate loss\n",
    "        loss = F.mse_loss(out, targets)                            \n",
    "        return {'val_loss': loss.detach()}\n",
    "        \n",
    "    def validation_epoch_end(self, outputs):\n",
    "        batch_losses = [x['val_loss'] for x in outputs]\n",
    "        epoch_loss = torch.stack(batch_losses).mean()   # Combine losses\n",
    "        return epoch_loss.item()\n",
    "    \n",
    "    def epoch_end(self, epoch, result, num_epochs):\n",
    "        # Print result every 20th epoch\n",
    "        if (epoch+1) % 20 == 0 or epoch == num_epochs-1:\n",
    "            print(\"Epoch [{}], val_loss: {:.4f}\".format(epoch+1, result))"
   ]
  },
  {
   "cell_type": "markdown",
   "id": "3a25f97f",
   "metadata": {},
   "source": [
    "Let us create a model using the `WomanModel` class. You may need to come back later and re-run the next cell to reinitialize the model, in case the loss becomes `nan` or `infinity`."
   ]
  },
  {
   "cell_type": "code",
   "execution_count": 20,
   "id": "019f3c1d",
   "metadata": {},
   "outputs": [],
   "source": [
    "model = WomanModel()"
   ]
  },
  {
   "cell_type": "markdown",
   "id": "cdaeed13",
   "metadata": {},
   "source": [
    "Let's check out the weights and biases of the model using `model.parameters`."
   ]
  },
  {
   "cell_type": "code",
   "execution_count": 21,
   "id": "01c6a097",
   "metadata": {},
   "outputs": [
    {
     "data": {
      "text/plain": [
       "[Parameter containing:\n",
       " tensor([[0.1492]], requires_grad=True),\n",
       " Parameter containing:\n",
       " tensor([-0.3580], requires_grad=True)]"
      ]
     },
     "execution_count": 21,
     "metadata": {},
     "output_type": "execute_result"
    }
   ],
   "source": [
    "list(model.parameters())"
   ]
  },
  {
   "cell_type": "markdown",
   "id": "b4fe0544",
   "metadata": {},
   "source": [
    "# Train the model to fit the data\n",
    "\n",
    "To train our model, we'll use the same `fit` function . That's the benefit of defining a generic training loop - you can use it for any problem."
   ]
  },
  {
   "cell_type": "code",
   "execution_count": 22,
   "id": "2f165635",
   "metadata": {},
   "outputs": [],
   "source": [
    "def evaluate(model, val_loader):\n",
    "    outputs = [model.validation_step(batch) for batch in val_loader]\n",
    "    return model.validation_epoch_end(outputs)\n",
    "\n",
    "def fit(epochs, lr, model, train_loader, val_loader, opt_func=torch.optim.SGD):\n",
    "    history = []\n",
    "    optimizer = opt_func(model.parameters(), lr)\n",
    "    for epoch in range(epochs):\n",
    "        # Training Phase \n",
    "        for batch in train_loader:\n",
    "            loss = model.training_step(batch)\n",
    "            # print(loss)\n",
    "            # print(epoch)\n",
    "            loss.backward()\n",
    "            optimizer.step()\n",
    "            optimizer.zero_grad()\n",
    "        # Validation phase\n",
    "        result = evaluate(model, val_loader)\n",
    "        model.epoch_end(epoch, result, epochs)\n",
    "        history.append(result)\n",
    "    return history"
   ]
  },
  {
   "cell_type": "code",
   "execution_count": 23,
   "id": "41431783",
   "metadata": {},
   "outputs": [
    {
     "name": "stdout",
     "output_type": "stream",
     "text": [
      "80477.8515625\n"
     ]
    }
   ],
   "source": [
    "result = evaluate(model,val_loader) # Use the the evaluate function\n",
    "print(result)"
   ]
  },
  {
   "cell_type": "markdown",
   "id": "9b891483",
   "metadata": {},
   "source": [
    "\n",
    "We are now ready to train the model. You may need to run the training loop many times, for different number of epochs and with different learning rates, to get a good result. Also, if your loss becomes too large (or `nan`), you may have to re-initialize the model by running the cell `model = WomanModel()`. Experiment with this for a while, and try to get to as low a loss as possible."
   ]
  },
  {
   "cell_type": "code",
   "execution_count": 24,
   "id": "ab4853c4",
   "metadata": {},
   "outputs": [
    {
     "name": "stdout",
     "output_type": "stream",
     "text": [
      "Epoch [20], val_loss: 4823944.0000\n",
      "Epoch [40], val_loss: 18550612.0000\n",
      "Epoch [60], val_loss: 16347376.0000\n",
      "Epoch [80], val_loss: 257842.2500\n",
      "Epoch [100], val_loss: 3684540.0000\n"
     ]
    }
   ],
   "source": [
    "epochs = 100\n",
    "lr = 1e-2\n",
    "history1 = fit(epochs, lr, model, train_loader, val_loader)"
   ]
  },
  {
   "cell_type": "code",
   "execution_count": 25,
   "id": "39934205",
   "metadata": {},
   "outputs": [
    {
     "name": "stdout",
     "output_type": "stream",
     "text": [
      "Epoch [20], val_loss: 5384953.5000\n",
      "Epoch [40], val_loss: 3214397.2500\n",
      "Epoch [60], val_loss: 4079492.7500\n",
      "Epoch [80], val_loss: 3910757.2500\n",
      "Epoch [100], val_loss: 5384965.5000\n"
     ]
    }
   ],
   "source": [
    "epochs = 100\n",
    "lr = 1e-3\n",
    "history2 = fit(epochs, lr, model, train_loader, val_loader)"
   ]
  },
  {
   "cell_type": "code",
   "execution_count": 26,
   "id": "b9f340a8",
   "metadata": {},
   "outputs": [
    {
     "name": "stdout",
     "output_type": "stream",
     "text": [
      "Epoch [20], val_loss: 3206.3142\n",
      "Epoch [40], val_loss: 4800.8828\n",
      "Epoch [60], val_loss: 4655.7368\n",
      "Epoch [80], val_loss: 4030.2263\n",
      "Epoch [100], val_loss: 1.6150\n"
     ]
    }
   ],
   "source": [
    "epochs = 100\n",
    "lr = 1e-4\n",
    "history3 = fit(epochs, lr, model, train_loader, val_loader)"
   ]
  },
  {
   "cell_type": "code",
   "execution_count": 27,
   "id": "b5b85380",
   "metadata": {},
   "outputs": [
    {
     "name": "stdout",
     "output_type": "stream",
     "text": [
      "Epoch [20], val_loss: 24.2510\n",
      "Epoch [40], val_loss: 2.1733\n",
      "Epoch [60], val_loss: 882.4877\n",
      "Epoch [80], val_loss: 972.4482\n",
      "Epoch [100], val_loss: 969.1597\n",
      "Epoch [120], val_loss: 1276.0482\n",
      "Epoch [140], val_loss: 167.1735\n",
      "Epoch [160], val_loss: 294.1122\n",
      "Epoch [180], val_loss: 609.8069\n",
      "Epoch [200], val_loss: 646.8347\n",
      "Epoch [220], val_loss: 930.1408\n",
      "Epoch [240], val_loss: 873.1120\n",
      "Epoch [260], val_loss: 1253.5338\n",
      "Epoch [280], val_loss: 137.4442\n",
      "Epoch [300], val_loss: 201.7179\n",
      "Epoch [320], val_loss: 77.8508\n",
      "Epoch [340], val_loss: 50.9302\n",
      "Epoch [360], val_loss: 159.2719\n",
      "Epoch [380], val_loss: 244.2034\n",
      "Epoch [400], val_loss: 301.6444\n",
      "Epoch [420], val_loss: 203.2181\n",
      "Epoch [440], val_loss: 172.8632\n",
      "Epoch [460], val_loss: 296.1715\n",
      "Epoch [480], val_loss: 259.2671\n",
      "Epoch [500], val_loss: 443.5636\n",
      "Epoch [520], val_loss: 559.1438\n",
      "Epoch [540], val_loss: 644.5173\n",
      "Epoch [560], val_loss: 623.2639\n",
      "Epoch [580], val_loss: 674.3227\n",
      "Epoch [600], val_loss: 628.5428\n",
      "Epoch [620], val_loss: 867.3060\n",
      "Epoch [640], val_loss: 845.6880\n",
      "Epoch [660], val_loss: 848.7599\n",
      "Epoch [680], val_loss: 602.3660\n",
      "Epoch [700], val_loss: 569.1672\n",
      "Epoch [720], val_loss: 529.5997\n",
      "Epoch [740], val_loss: 496.1476\n",
      "Epoch [760], val_loss: 631.1877\n",
      "Epoch [780], val_loss: 544.2686\n",
      "Epoch [800], val_loss: 493.7996\n",
      "Epoch [820], val_loss: 882.9112\n",
      "Epoch [840], val_loss: 733.0922\n",
      "Epoch [860], val_loss: 836.5036\n",
      "Epoch [880], val_loss: 764.8577\n",
      "Epoch [900], val_loss: 1112.5248\n",
      "Epoch [920], val_loss: 927.3566\n",
      "Epoch [940], val_loss: 830.4117\n",
      "Epoch [960], val_loss: 776.5770\n",
      "Epoch [980], val_loss: 943.4937\n",
      "Epoch [1000], val_loss: 827.3731\n"
     ]
    }
   ],
   "source": [
    "epochs = 1000\n",
    "lr = 1e-5\n",
    "history4 = fit(epochs, lr, model, train_loader, val_loader)"
   ]
  },
  {
   "cell_type": "code",
   "execution_count": 28,
   "id": "096d320a",
   "metadata": {},
   "outputs": [
    {
     "name": "stdout",
     "output_type": "stream",
     "text": [
      "Epoch [20], val_loss: 7.0202\n",
      "Epoch [40], val_loss: 5.4101\n",
      "Epoch [60], val_loss: 5.7550\n",
      "Epoch [80], val_loss: 6.6380\n",
      "Epoch [100], val_loss: 7.9351\n",
      "Epoch [120], val_loss: 8.3230\n",
      "Epoch [140], val_loss: 9.4786\n",
      "Epoch [160], val_loss: 8.1130\n",
      "Epoch [180], val_loss: 7.8763\n",
      "Epoch [200], val_loss: 5.7801\n",
      "Epoch [220], val_loss: 2.4321\n",
      "Epoch [240], val_loss: 1.5260\n",
      "Epoch [260], val_loss: 1.2654\n",
      "Epoch [280], val_loss: 2.4693\n",
      "Epoch [300], val_loss: 1.7591\n",
      "Epoch [320], val_loss: 1.6403\n",
      "Epoch [340], val_loss: 1.3805\n",
      "Epoch [360], val_loss: 1.6273\n",
      "Epoch [380], val_loss: 0.6840\n",
      "Epoch [400], val_loss: 0.7820\n",
      "Epoch [420], val_loss: 4.1611\n",
      "Epoch [440], val_loss: 4.3975\n",
      "Epoch [460], val_loss: 2.7462\n",
      "Epoch [480], val_loss: 3.6354\n",
      "Epoch [500], val_loss: 4.6251\n",
      "Epoch [520], val_loss: 2.7345\n",
      "Epoch [540], val_loss: 2.0981\n",
      "Epoch [560], val_loss: 2.7174\n",
      "Epoch [580], val_loss: 3.1407\n",
      "Epoch [600], val_loss: 5.6880\n",
      "Epoch [620], val_loss: 3.6948\n",
      "Epoch [640], val_loss: 4.2101\n",
      "Epoch [660], val_loss: 1.9246\n",
      "Epoch [680], val_loss: 1.1990\n",
      "Epoch [700], val_loss: 1.0119\n",
      "Epoch [720], val_loss: 1.0218\n",
      "Epoch [740], val_loss: 1.1032\n",
      "Epoch [760], val_loss: 1.4643\n",
      "Epoch [780], val_loss: 2.3263\n",
      "Epoch [800], val_loss: 3.1223\n",
      "Epoch [820], val_loss: 4.1253\n",
      "Epoch [840], val_loss: 3.8356\n",
      "Epoch [860], val_loss: 4.4042\n",
      "Epoch [880], val_loss: 5.5889\n",
      "Epoch [900], val_loss: 3.7148\n",
      "Epoch [920], val_loss: 5.2971\n",
      "Epoch [940], val_loss: 6.0595\n",
      "Epoch [960], val_loss: 5.3378\n",
      "Epoch [980], val_loss: 4.9135\n",
      "Epoch [1000], val_loss: 5.0062\n"
     ]
    }
   ],
   "source": [
    "epochs = 1000\n",
    "lr = 1e-6\n",
    "history4 = fit(epochs, lr, model, train_loader, val_loader)"
   ]
  },
  {
   "cell_type": "code",
   "execution_count": 29,
   "id": "fb9dedb2",
   "metadata": {},
   "outputs": [
    {
     "name": "stdout",
     "output_type": "stream",
     "text": [
      "Epoch [20], val_loss: 3.1563\n",
      "Epoch [40], val_loss: 1.7783\n",
      "Epoch [60], val_loss: 0.9257\n",
      "Epoch [80], val_loss: 0.4634\n",
      "Epoch [100], val_loss: 0.2234\n",
      "Epoch [120], val_loss: 0.1485\n",
      "Epoch [140], val_loss: 0.1345\n",
      "Epoch [160], val_loss: 0.1381\n",
      "Epoch [180], val_loss: 0.1389\n",
      "Epoch [200], val_loss: 0.1397\n",
      "Epoch [220], val_loss: 0.1406\n",
      "Epoch [240], val_loss: 0.1415\n",
      "Epoch [260], val_loss: 0.1424\n",
      "Epoch [280], val_loss: 0.1420\n",
      "Epoch [300], val_loss: 0.1419\n",
      "Epoch [320], val_loss: 0.1419\n",
      "Epoch [340], val_loss: 0.1424\n",
      "Epoch [360], val_loss: 0.1424\n",
      "Epoch [380], val_loss: 0.1424\n",
      "Epoch [400], val_loss: 0.1424\n",
      "Epoch [420], val_loss: 0.1424\n",
      "Epoch [440], val_loss: 0.1424\n",
      "Epoch [460], val_loss: 0.1419\n",
      "Epoch [480], val_loss: 0.1424\n",
      "Epoch [500], val_loss: 0.1419\n",
      "Epoch [520], val_loss: 0.1419\n",
      "Epoch [540], val_loss: 0.1424\n",
      "Epoch [560], val_loss: 0.1424\n",
      "Epoch [580], val_loss: 0.1424\n",
      "Epoch [600], val_loss: 0.1424\n",
      "Epoch [620], val_loss: 0.1419\n",
      "Epoch [640], val_loss: 0.1419\n",
      "Epoch [660], val_loss: 0.1419\n",
      "Epoch [680], val_loss: 0.1424\n",
      "Epoch [700], val_loss: 0.1424\n",
      "Epoch [720], val_loss: 0.1424\n",
      "Epoch [740], val_loss: 0.1419\n",
      "Epoch [760], val_loss: 0.1423\n",
      "Epoch [780], val_loss: 0.1423\n",
      "Epoch [800], val_loss: 0.1423\n",
      "Epoch [820], val_loss: 0.1418\n",
      "Epoch [840], val_loss: 0.1423\n",
      "Epoch [860], val_loss: 0.1423\n",
      "Epoch [880], val_loss: 0.1423\n",
      "Epoch [900], val_loss: 0.1423\n",
      "Epoch [920], val_loss: 0.1423\n",
      "Epoch [940], val_loss: 0.1418\n",
      "Epoch [960], val_loss: 0.1423\n",
      "Epoch [980], val_loss: 0.1423\n",
      "Epoch [1000], val_loss: 0.1423\n"
     ]
    }
   ],
   "source": [
    "epochs = 1000\n",
    "lr = 1e-9\n",
    "history4 = fit(epochs, lr, model, train_loader, val_loader)"
   ]
  },
  {
   "cell_type": "code",
   "execution_count": 30,
   "id": "78984f90",
   "metadata": {},
   "outputs": [
    {
     "data": {
      "text/plain": [
       "[<matplotlib.lines.Line2D at 0x7f970d8a27c0>]"
      ]
     },
     "execution_count": 30,
     "metadata": {},
     "output_type": "execute_result"
    },
    {
     "data": {
      "image/png": "[encoded data removed]",
      "text/plain": [
       "<Figure size 432x288 with 1 Axes>"
      ]
     },
     "metadata": {
      "needs_background": "light"
     },
     "output_type": "display_data"
    }
   ],
   "source": [
    "import matplotlib.pyplot as plt\n",
    "%matplotlib inline\n",
    "#plt.plot(history5)\n",
    "plt.plot(history4)"
   ]
  },
  {
   "cell_type": "markdown",
   "id": "c3861aa8",
   "metadata": {},
   "source": [
    "# Make predictions using the trained model"
   ]
  },
  {
   "cell_type": "code",
   "execution_count": 31,
   "id": "6ad5621d",
   "metadata": {},
   "outputs": [],
   "source": [
    "def predict_single(input, target, model):\n",
    "    inputs = input.unsqueeze(0)\n",
    "    predictions = model(input)              \n",
    "    prediction = predictions[0].detach()\n",
    "    print(\"Input:\", input)\n",
    "    print(\"Target:\", target)\n",
    "    print(\"Prediction:\", prediction)"
   ]
  },
  {
   "cell_type": "code",
   "execution_count": 32,
   "id": "c382ddf3",
   "metadata": {},
   "outputs": [
    {
     "name": "stdout",
     "output_type": "stream",
     "text": [
      "Input: tensor([2004.])\n",
      "Target: tensor([10.9300])\n",
      "Prediction: tensor(11.2099)\n"
     ]
    }
   ],
   "source": [
    "input, target = val_ds[0]\n",
    "predict_single(input, target, model)"
   ]
  },
  {
   "cell_type": "code",
   "execution_count": 33,
   "id": "d1cfa033",
   "metadata": {},
   "outputs": [
    {
     "name": "stdout",
     "output_type": "stream",
     "text": [
      "Input: tensor([1980.])\n",
      "Target: tensor([11.0600])\n",
      "Prediction: tensor(11.0714)\n"
     ]
    }
   ],
   "source": [
    "input, target = val_ds[1]\n",
    "predict_single(input, target, model)"
   ]
  },
  {
   "cell_type": "code",
   "execution_count": 34,
   "id": "f42cc215",
   "metadata": {},
   "outputs": [],
   "source": [
    "def predict_cstm(input, model):\n",
    "    inputs = input\n",
    "    predictions = model(input)                \n",
    "    prediction = predictions[0].detach()\n",
    "    print(\"Input:\", input)\n",
    "    #print(\"Target:\", target)\n",
    "    print(\"Prediction:\", prediction)"
   ]
  },
  {
   "cell_type": "code",
   "execution_count": 35,
   "id": "0dd52149",
   "metadata": {},
   "outputs": [
    {
     "name": "stdout",
     "output_type": "stream",
     "text": [
      "Input: tensor([2020.])\n",
      "Prediction: tensor(11.3023)\n"
     ]
    }
   ],
   "source": [
    "predict_cstm(torch.tensor([2020.]),model)"
   ]
  },
  {
   "cell_type": "code",
   "execution_count": 36,
   "id": "491403c7",
   "metadata": {},
   "outputs": [
    {
     "name": "stdout",
     "output_type": "stream",
     "text": [
      "Input: tensor([2024.])\n",
      "Prediction: tensor(11.3254)\n"
     ]
    }
   ],
   "source": [
    "predict_cstm(torch.tensor([2024.]),model)"
   ]
  },
  {
   "cell_type": "markdown",
   "id": "959df477",
   "metadata": {},
   "source": [
    "Are you happy with your model's predictions? Try to improve them further."
   ]
  },
  {
   "cell_type": "code",
   "execution_count": null,
   "id": "ceac3d7a",
   "metadata": {},
   "outputs": [],
   "source": []
  },
  {
   "cell_type": "code",
   "execution_count": null,
   "id": "78f8994c",
   "metadata": {},
   "outputs": [],
   "source": []
  }
 ],
 "metadata": {
  "kernelspec": {
   "display_name": "Python 3 (ipykernel)",
   "language": "python",
   "name": "python3"
  },
  "language_info": {
   "codemirror_mode": {
    "name": "ipython",
    "version": 3
   },
   "file_extension": ".py",
   "mimetype": "text/x-python",
   "name": "python",
   "nbconvert_exporter": "python",
   "pygments_lexer": "ipython3",
   "version": "3.8.10"
  }
 },
 "nbformat": 4,
 "nbformat_minor": 5
}
