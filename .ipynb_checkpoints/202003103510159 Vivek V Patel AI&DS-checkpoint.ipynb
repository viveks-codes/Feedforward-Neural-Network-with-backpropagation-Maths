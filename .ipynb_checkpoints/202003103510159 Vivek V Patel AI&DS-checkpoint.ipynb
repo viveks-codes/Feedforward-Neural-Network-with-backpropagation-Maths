{
 "cells": [
  {
   "cell_type": "markdown",
   "metadata": {},
   "source": [
    "# Introduction\n",
    "\n",
    "The focus of this notebook will be on implementation of linear regression from scratch. The key issue is to forecast the how much time an woman athlete will take to complete 100 Meter race, base don historical trends.hence it is a very rough idea to determine of what will be happened.\n",
    "\n",
    "Source:https://github.com/vivolscute/Machine-learning-Deep-Learning-Python-Hand-written-notes-and-notebooks/blob/main/notebooks/data/DataWoman.csv"
   ]
  },
  {
   "cell_type": "markdown",
   "metadata": {},
   "source": [
    "# What is the problem statement?\n",
    "\n",
    "dataset is given :\n",
    "\n",
    "The goal is to create a simple forecast of the year given by the client/user and hence the time taken by woman athlete and it's performance by understanding the link between year and their impact of time(sec) taken by woman athlete using linear Model from scratch."
   ]
  },
  {
   "cell_type": "markdown",
   "metadata": {},
   "source": [
    "# Assumptions made\n",
    "\n",
    "That time taken by woman athlete moves purely based on year. However, we understand that time taken by woman athlete can be affected by multiple different reasons and analysts often obtain information much earlier that journalists."
   ]
  },
  {
   "cell_type": "markdown",
   "metadata": {},
   "source": [
    "# Steps\n",
    "\n",
    "1.    Import dataset and required libraries\n",
    "2.    Perform EDA\n",
    "3.    Plot Graphs to take maximum insights from data\n",
    "4.    Create linear regression model from scratch and compare results with sklearn.linear_model\n",
    "5.    take year as input from user and forcast time taken by woman athlete to complete 100 meter race."
   ]
  },
  {
   "cell_type": "markdown",
   "metadata": {},
   "source": [
    "# Linear Regression from scratch"
   ]
  },
  {
   "cell_type": "markdown",
   "metadata": {},
   "source": [
    "# Made with ❤️️ and  ☕ \n",
    "## by Vivek patel\n",
    "###  ER.No : 202003103510159"
   ]
  },
  {
   "cell_type": "markdown",
   "metadata": {},
   "source": [
    "## import required libraries"
   ]
  },
  {
   "cell_type": "code",
   "execution_count": 74,
   "metadata": {},
   "outputs": [],
   "source": [
    "import numpy  as np\n",
    "import pandas as pd"
   ]
  },
  {
   "cell_type": "markdown",
   "metadata": {},
   "source": [
    "## import dataset"
   ]
  },
  {
   "cell_type": "code",
   "execution_count": 75,
   "metadata": {},
   "outputs": [],
   "source": [
    "df = pd.read_csv('DataWoman.csv')"
   ]
  },
  {
   "cell_type": "markdown",
   "metadata": {},
   "source": [
    "## Let's take a Quick look on our data"
   ]
  },
  {
   "cell_type": "code",
   "execution_count": 76,
   "metadata": {},
   "outputs": [
    {
     "data": {
      "text/html": [
       "<div>\n",
       "<style scoped>\n",
       "    .dataframe tbody tr th:only-of-type {\n",
       "        vertical-align: middle;\n",
       "    }\n",
       "\n",
       "    .dataframe tbody tr th {\n",
       "        vertical-align: top;\n",
       "    }\n",
       "\n",
       "    .dataframe thead th {\n",
       "        text-align: right;\n",
       "    }\n",
       "</style>\n",
       "<table border=\"1\" class=\"dataframe\">\n",
       "  <thead>\n",
       "    <tr style=\"text-align: right;\">\n",
       "      <th></th>\n",
       "      <th>X</th>\n",
       "      <th>Y</th>\n",
       "    </tr>\n",
       "  </thead>\n",
       "  <tbody>\n",
       "    <tr>\n",
       "      <th>0</th>\n",
       "      <td>1928</td>\n",
       "      <td>12.20</td>\n",
       "    </tr>\n",
       "    <tr>\n",
       "      <th>1</th>\n",
       "      <td>1932</td>\n",
       "      <td>11.90</td>\n",
       "    </tr>\n",
       "    <tr>\n",
       "      <th>2</th>\n",
       "      <td>1936</td>\n",
       "      <td>11.15</td>\n",
       "    </tr>\n",
       "    <tr>\n",
       "      <th>3</th>\n",
       "      <td>1948</td>\n",
       "      <td>11.90</td>\n",
       "    </tr>\n",
       "    <tr>\n",
       "      <th>4</th>\n",
       "      <td>1952</td>\n",
       "      <td>11.50</td>\n",
       "    </tr>\n",
       "  </tbody>\n",
       "</table>\n",
       "</div>"
      ],
      "text/plain": [
       "      X      Y\n",
       "0  1928  12.20\n",
       "1  1932  11.90\n",
       "2  1936  11.15\n",
       "3  1948  11.90\n",
       "4  1952  11.50"
      ]
     },
     "execution_count": 76,
     "metadata": {},
     "output_type": "execute_result"
    }
   ],
   "source": [
    "df.head()"
   ]
  },
  {
   "cell_type": "code",
   "execution_count": 77,
   "metadata": {},
   "outputs": [
    {
     "data": {
      "text/html": [
       "<div>\n",
       "<style scoped>\n",
       "    .dataframe tbody tr th:only-of-type {\n",
       "        vertical-align: middle;\n",
       "    }\n",
       "\n",
       "    .dataframe tbody tr th {\n",
       "        vertical-align: top;\n",
       "    }\n",
       "\n",
       "    .dataframe thead th {\n",
       "        text-align: right;\n",
       "    }\n",
       "</style>\n",
       "<table border=\"1\" class=\"dataframe\">\n",
       "  <thead>\n",
       "    <tr style=\"text-align: right;\">\n",
       "      <th></th>\n",
       "      <th>X</th>\n",
       "      <th>Y</th>\n",
       "    </tr>\n",
       "  </thead>\n",
       "  <tbody>\n",
       "    <tr>\n",
       "      <th>16</th>\n",
       "      <td>2000</td>\n",
       "      <td>11.12</td>\n",
       "    </tr>\n",
       "    <tr>\n",
       "      <th>17</th>\n",
       "      <td>2004</td>\n",
       "      <td>10.93</td>\n",
       "    </tr>\n",
       "    <tr>\n",
       "      <th>18</th>\n",
       "      <td>2008</td>\n",
       "      <td>10.78</td>\n",
       "    </tr>\n",
       "    <tr>\n",
       "      <th>19</th>\n",
       "      <td>2012</td>\n",
       "      <td>10.75</td>\n",
       "    </tr>\n",
       "    <tr>\n",
       "      <th>20</th>\n",
       "      <td>2016</td>\n",
       "      <td>10.71</td>\n",
       "    </tr>\n",
       "  </tbody>\n",
       "</table>\n",
       "</div>"
      ],
      "text/plain": [
       "       X      Y\n",
       "16  2000  11.12\n",
       "17  2004  10.93\n",
       "18  2008  10.78\n",
       "19  2012  10.75\n",
       "20  2016  10.71"
      ]
     },
     "execution_count": 77,
     "metadata": {},
     "output_type": "execute_result"
    }
   ],
   "source": [
    "df.tail()"
   ]
  },
  {
   "cell_type": "code",
   "execution_count": 78,
   "metadata": {},
   "outputs": [
    {
     "data": {
      "text/plain": [
       "(21, 2)"
      ]
     },
     "execution_count": 78,
     "metadata": {},
     "output_type": "execute_result"
    }
   ],
   "source": [
    "df.shape"
   ]
  },
  {
   "cell_type": "code",
   "execution_count": 79,
   "metadata": {},
   "outputs": [
    {
     "data": {
      "text/html": [
       "<div>\n",
       "<style scoped>\n",
       "    .dataframe tbody tr th:only-of-type {\n",
       "        vertical-align: middle;\n",
       "    }\n",
       "\n",
       "    .dataframe tbody tr th {\n",
       "        vertical-align: top;\n",
       "    }\n",
       "\n",
       "    .dataframe thead th {\n",
       "        text-align: right;\n",
       "    }\n",
       "</style>\n",
       "<table border=\"1\" class=\"dataframe\">\n",
       "  <thead>\n",
       "    <tr style=\"text-align: right;\">\n",
       "      <th></th>\n",
       "      <th>X</th>\n",
       "      <th>Y</th>\n",
       "    </tr>\n",
       "  </thead>\n",
       "  <tbody>\n",
       "    <tr>\n",
       "      <th>count</th>\n",
       "      <td>21.000000</td>\n",
       "      <td>21.000000</td>\n",
       "    </tr>\n",
       "    <tr>\n",
       "      <th>mean</th>\n",
       "      <td>1974.857143</td>\n",
       "      <td>11.158095</td>\n",
       "    </tr>\n",
       "    <tr>\n",
       "      <th>std</th>\n",
       "      <td>26.657618</td>\n",
       "      <td>0.429844</td>\n",
       "    </tr>\n",
       "    <tr>\n",
       "      <th>min</th>\n",
       "      <td>1928.000000</td>\n",
       "      <td>10.540000</td>\n",
       "    </tr>\n",
       "    <tr>\n",
       "      <th>25%</th>\n",
       "      <td>1956.000000</td>\n",
       "      <td>10.930000</td>\n",
       "    </tr>\n",
       "    <tr>\n",
       "      <th>50%</th>\n",
       "      <td>1976.000000</td>\n",
       "      <td>11.060000</td>\n",
       "    </tr>\n",
       "    <tr>\n",
       "      <th>75%</th>\n",
       "      <td>1996.000000</td>\n",
       "      <td>11.400000</td>\n",
       "    </tr>\n",
       "    <tr>\n",
       "      <th>max</th>\n",
       "      <td>2016.000000</td>\n",
       "      <td>12.200000</td>\n",
       "    </tr>\n",
       "  </tbody>\n",
       "</table>\n",
       "</div>"
      ],
      "text/plain": [
       "                 X          Y\n",
       "count    21.000000  21.000000\n",
       "mean   1974.857143  11.158095\n",
       "std      26.657618   0.429844\n",
       "min    1928.000000  10.540000\n",
       "25%    1956.000000  10.930000\n",
       "50%    1976.000000  11.060000\n",
       "75%    1996.000000  11.400000\n",
       "max    2016.000000  12.200000"
      ]
     },
     "execution_count": 79,
     "metadata": {},
     "output_type": "execute_result"
    }
   ],
   "source": [
    "df.describe()"
   ]
  },
  {
   "cell_type": "markdown",
   "metadata": {},
   "source": [
    "## Let's Plot Data and take insights"
   ]
  },
  {
   "cell_type": "code",
   "execution_count": 80,
   "metadata": {},
   "outputs": [
    {
     "data": {
      "text/plain": [
       "[Text(0.5, 0, 'Years'), Text(0, 0.5, 'Time taken(sec)')]"
      ]
     },
     "execution_count": 80,
     "metadata": {},
     "output_type": "execute_result"
    },
    {
     "data": {
      "image/png": "[encoded data removed]",
      "text/plain": [
       "<Figure size 864x576 with 1 Axes>"
      ]
     },
     "metadata": {
      "needs_background": "light"
     },
     "output_type": "display_data"
    }
   ],
   "source": [
    "import seaborn as sns\n",
    "import matplotlib.pyplot as plt\n",
    "fig, ax = plt.subplots(1, figsize=(12,8))\n",
    "ax = sns.regplot(x=df['X'],y=df['Y'],marker=\"o\",fit_reg=False)\n",
    "ax.set(xlabel=\"Years\", ylabel = \"Time taken(sec)\")"
   ]
  },
  {
   "cell_type": "markdown",
   "metadata": {},
   "source": [
    "## sum of all elements in X column"
   ]
  },
  {
   "cell_type": "code",
   "execution_count": 81,
   "metadata": {},
   "outputs": [
    {
     "data": {
      "text/plain": [
       "41472"
      ]
     },
     "execution_count": 81,
     "metadata": {},
     "output_type": "execute_result"
    }
   ],
   "source": [
    "X = df['X']\n",
    "sum1 = 0\n",
    "for i in range(len(df['X'])):\n",
    "    sum1 += X[i]\n",
    "sum1"
   ]
  },
  {
   "cell_type": "markdown",
   "metadata": {},
   "source": [
    "## sum of all elements in Y column"
   ]
  },
  {
   "cell_type": "code",
   "execution_count": 82,
   "metadata": {},
   "outputs": [
    {
     "data": {
      "text/plain": [
       "234.32"
      ]
     },
     "execution_count": 82,
     "metadata": {},
     "output_type": "execute_result"
    }
   ],
   "source": [
    "Y = df['Y']\n",
    "sum2 = 0\n",
    "for i in range(len(df['Y'])):\n",
    "    sum2 += Y[i]\n",
    "sum2"
   ]
  },
  {
   "cell_type": "markdown",
   "metadata": {},
   "source": [
    "## Lets Plot heatmap of our Dataset"
   ]
  },
  {
   "cell_type": "code",
   "execution_count": 83,
   "metadata": {},
   "outputs": [
    {
     "data": {
      "image/png": "[encoded data removed]",
      "text/plain": [
       "<Figure size 864x576 with 2 Axes>"
      ]
     },
     "metadata": {
      "needs_background": "light"
     },
     "output_type": "display_data"
    }
   ],
   "source": [
    "fig, ax = plt.subplots(1, figsize=(12,8))\n",
    "plt.tick_params(axis='both', which='major', labelsize=15, labelbottom = False, bottom=False, top = False, labeltop=True)\n",
    "ax = sns.heatmap(data=df,cmap=\"icefire\",annot=True,fmt='g')"
   ]
  },
  {
   "cell_type": "markdown",
   "metadata": {},
   "source": [
    "## Lets find xBar(mean)"
   ]
  },
  {
   "cell_type": "code",
   "execution_count": 84,
   "metadata": {},
   "outputs": [],
   "source": [
    "xBar = sum1 / len(df['X'])"
   ]
  },
  {
   "cell_type": "code",
   "execution_count": 85,
   "metadata": {},
   "outputs": [
    {
     "data": {
      "text/plain": [
       "1974.857142857143"
      ]
     },
     "execution_count": 85,
     "metadata": {},
     "output_type": "execute_result"
    }
   ],
   "source": [
    "xBar"
   ]
  },
  {
   "cell_type": "markdown",
   "metadata": {},
   "source": [
    "## Lets find yBar(mean)"
   ]
  },
  {
   "cell_type": "code",
   "execution_count": 86,
   "metadata": {},
   "outputs": [],
   "source": [
    "yBar = sum2 / len(df['Y'])"
   ]
  },
  {
   "cell_type": "code",
   "execution_count": 87,
   "metadata": {},
   "outputs": [
    {
     "data": {
      "text/plain": [
       "11.158095238095237"
      ]
     },
     "execution_count": 87,
     "metadata": {},
     "output_type": "execute_result"
    }
   ],
   "source": [
    "yBar"
   ]
  },
  {
   "cell_type": "markdown",
   "metadata": {},
   "source": [
    "## Lets Find x - xBar For every element"
   ]
  },
  {
   "cell_type": "code",
   "execution_count": 88,
   "metadata": {},
   "outputs": [],
   "source": [
    "xMin_xBar = []\n",
    "for i in range(len(df['X'])):\n",
    "    xMin_xBar.append(X[i]-xBar)  "
   ]
  },
  {
   "cell_type": "code",
   "execution_count": 89,
   "metadata": {
    "scrolled": true
   },
   "outputs": [
    {
     "data": {
      "text/plain": [
       "[-46.85714285714289,\n",
       " -42.85714285714289,\n",
       " -38.85714285714289,\n",
       " -26.85714285714289,\n",
       " -22.85714285714289,\n",
       " -18.85714285714289,\n",
       " -14.85714285714289,\n",
       " -10.85714285714289,\n",
       " -6.85714285714289,\n",
       " -2.8571428571428896,\n",
       " 1.1428571428571104,\n",
       " 5.14285714285711,\n",
       " 9.14285714285711,\n",
       " 13.14285714285711,\n",
       " 17.14285714285711,\n",
       " 21.14285714285711,\n",
       " 25.14285714285711,\n",
       " 29.14285714285711,\n",
       " 33.14285714285711,\n",
       " 37.14285714285711,\n",
       " 41.14285714285711]"
      ]
     },
     "execution_count": 89,
     "metadata": {},
     "output_type": "execute_result"
    }
   ],
   "source": [
    "xMin_xBar"
   ]
  },
  {
   "cell_type": "markdown",
   "metadata": {},
   "source": [
    "## Lets add a new column to our data frame called 'X-x̄' "
   ]
  },
  {
   "cell_type": "code",
   "execution_count": 90,
   "metadata": {},
   "outputs": [],
   "source": [
    "df['X-x̄'] = xMin_xBar"
   ]
  },
  {
   "cell_type": "markdown",
   "metadata": {},
   "source": [
    "## Lets Convert xMin_xBar into numpy array "
   ]
  },
  {
   "cell_type": "code",
   "execution_count": 91,
   "metadata": {},
   "outputs": [],
   "source": [
    "xMin_xBar = np.array(xMin_xBar)"
   ]
  },
  {
   "cell_type": "markdown",
   "metadata": {},
   "source": [
    "## Lets Find Y - yBar for every element"
   ]
  },
  {
   "cell_type": "code",
   "execution_count": 92,
   "metadata": {},
   "outputs": [],
   "source": [
    "yMin_yBar = []\n",
    "for i in range(len(df['Y'])):\n",
    "    yMin_yBar.append(Y[i]-yBar)   "
   ]
  },
  {
   "cell_type": "code",
   "execution_count": 93,
   "metadata": {},
   "outputs": [
    {
     "data": {
      "text/plain": [
       "list"
      ]
     },
     "execution_count": 93,
     "metadata": {},
     "output_type": "execute_result"
    }
   ],
   "source": [
    "type(yMin_yBar)"
   ]
  },
  {
   "cell_type": "markdown",
   "metadata": {},
   "source": [
    "## Lets add a new column to our data frame called 'Y-ȳ'"
   ]
  },
  {
   "cell_type": "code",
   "execution_count": 94,
   "metadata": {},
   "outputs": [],
   "source": [
    "df['Y-ȳ'] = yMin_yBar"
   ]
  },
  {
   "cell_type": "markdown",
   "metadata": {},
   "source": [
    "## Lets find upper part of Equation\n",
    "### Which is  x - xBar * y - yBar"
   ]
  },
  {
   "cell_type": "code",
   "execution_count": 95,
   "metadata": {},
   "outputs": [
    {
     "data": {
      "text/plain": [
       "array([-48.82068027, -31.79591837,   0.31455782, -19.92544218,\n",
       "        -7.81496599,  -6.44734694,   2.34884354,  -2.62639456,\n",
       "         1.08408163,   0.25170068,  -0.0892517 ,  -0.5044898 ,\n",
       "        -1.71972789,  -8.12353741,  -5.79591837,  -4.61115646,\n",
       "        -0.95782313,  -6.64734694, -12.53115646, -15.15782313,\n",
       "       -18.43591837])"
      ]
     },
     "execution_count": 95,
     "metadata": {},
     "output_type": "execute_result"
    }
   ],
   "source": [
    "upper = xMin_xBar * yMin_yBar\n",
    "upper"
   ]
  },
  {
   "cell_type": "markdown",
   "metadata": {},
   "source": [
    "## Lets add a new column to our data frame called ''(X-x̄)*(Y-ȳ')"
   ]
  },
  {
   "cell_type": "code",
   "execution_count": 96,
   "metadata": {},
   "outputs": [],
   "source": [
    "df[\"(X-x̄)*(Y-ȳ)\"] = upper"
   ]
  },
  {
   "cell_type": "markdown",
   "metadata": {},
   "source": [
    "## Lets find lower part of Equation\n",
    "### Which is  X - Xbar`2"
   ]
  },
  {
   "cell_type": "code",
   "execution_count": 97,
   "metadata": {},
   "outputs": [
    {
     "data": {
      "text/plain": [
       "array([2.19559184e+03, 1.83673469e+03, 1.50987755e+03, 7.21306122e+02,\n",
       "       5.22448980e+02, 3.55591837e+02, 2.20734694e+02, 1.17877551e+02,\n",
       "       4.70204082e+01, 8.16326531e+00, 1.30612245e+00, 2.64489796e+01,\n",
       "       8.35918367e+01, 1.72734694e+02, 2.93877551e+02, 4.47020408e+02,\n",
       "       6.32163265e+02, 8.49306122e+02, 1.09844898e+03, 1.37959184e+03,\n",
       "       1.69273469e+03])"
      ]
     },
     "execution_count": 97,
     "metadata": {},
     "output_type": "execute_result"
    }
   ],
   "source": [
    "lower = xMin_xBar * xMin_xBar\n",
    "lower"
   ]
  },
  {
   "cell_type": "markdown",
   "metadata": {},
   "source": [
    "## Lets add a new column to our data frame called 'X-x̄^2'"
   ]
  },
  {
   "cell_type": "code",
   "execution_count": 98,
   "metadata": {},
   "outputs": [],
   "source": [
    "df[\"X-x̄^2\"] = lower"
   ]
  },
  {
   "cell_type": "code",
   "execution_count": 99,
   "metadata": {},
   "outputs": [
    {
     "data": {
      "text/html": [
       "<div>\n",
       "<style scoped>\n",
       "    .dataframe tbody tr th:only-of-type {\n",
       "        vertical-align: middle;\n",
       "    }\n",
       "\n",
       "    .dataframe tbody tr th {\n",
       "        vertical-align: top;\n",
       "    }\n",
       "\n",
       "    .dataframe thead th {\n",
       "        text-align: right;\n",
       "    }\n",
       "</style>\n",
       "<table border=\"1\" class=\"dataframe\">\n",
       "  <thead>\n",
       "    <tr style=\"text-align: right;\">\n",
       "      <th></th>\n",
       "      <th>X</th>\n",
       "      <th>Y</th>\n",
       "      <th>X-x̄</th>\n",
       "      <th>Y-ȳ</th>\n",
       "      <th>(X-x̄)*(Y-ȳ)</th>\n",
       "      <th>X-x̄^2</th>\n",
       "    </tr>\n",
       "  </thead>\n",
       "  <tbody>\n",
       "    <tr>\n",
       "      <th>0</th>\n",
       "      <td>1928</td>\n",
       "      <td>12.20</td>\n",
       "      <td>-46.857143</td>\n",
       "      <td>1.041905</td>\n",
       "      <td>-48.820680</td>\n",
       "      <td>2195.591837</td>\n",
       "    </tr>\n",
       "    <tr>\n",
       "      <th>1</th>\n",
       "      <td>1932</td>\n",
       "      <td>11.90</td>\n",
       "      <td>-42.857143</td>\n",
       "      <td>0.741905</td>\n",
       "      <td>-31.795918</td>\n",
       "      <td>1836.734694</td>\n",
       "    </tr>\n",
       "    <tr>\n",
       "      <th>2</th>\n",
       "      <td>1936</td>\n",
       "      <td>11.15</td>\n",
       "      <td>-38.857143</td>\n",
       "      <td>-0.008095</td>\n",
       "      <td>0.314558</td>\n",
       "      <td>1509.877551</td>\n",
       "    </tr>\n",
       "    <tr>\n",
       "      <th>3</th>\n",
       "      <td>1948</td>\n",
       "      <td>11.90</td>\n",
       "      <td>-26.857143</td>\n",
       "      <td>0.741905</td>\n",
       "      <td>-19.925442</td>\n",
       "      <td>721.306122</td>\n",
       "    </tr>\n",
       "    <tr>\n",
       "      <th>4</th>\n",
       "      <td>1952</td>\n",
       "      <td>11.50</td>\n",
       "      <td>-22.857143</td>\n",
       "      <td>0.341905</td>\n",
       "      <td>-7.814966</td>\n",
       "      <td>522.448980</td>\n",
       "    </tr>\n",
       "  </tbody>\n",
       "</table>\n",
       "</div>"
      ],
      "text/plain": [
       "      X      Y       X-x̄      Y-ȳ  (X-x̄)*(Y-ȳ)       X-x̄^2\n",
       "0  1928  12.20 -46.857143  1.041905     -48.820680  2195.591837\n",
       "1  1932  11.90 -42.857143  0.741905     -31.795918  1836.734694\n",
       "2  1936  11.15 -38.857143 -0.008095       0.314558  1509.877551\n",
       "3  1948  11.90 -26.857143  0.741905     -19.925442   721.306122\n",
       "4  1952  11.50 -22.857143  0.341905      -7.814966   522.448980"
      ]
     },
     "execution_count": 99,
     "metadata": {},
     "output_type": "execute_result"
    }
   ],
   "source": [
    "df.head()"
   ]
  },
  {
   "cell_type": "code",
   "execution_count": 100,
   "metadata": {},
   "outputs": [
    {
     "data": {
      "text/html": [
       "<div>\n",
       "<style scoped>\n",
       "    .dataframe tbody tr th:only-of-type {\n",
       "        vertical-align: middle;\n",
       "    }\n",
       "\n",
       "    .dataframe tbody tr th {\n",
       "        vertical-align: top;\n",
       "    }\n",
       "\n",
       "    .dataframe thead th {\n",
       "        text-align: right;\n",
       "    }\n",
       "</style>\n",
       "<table border=\"1\" class=\"dataframe\">\n",
       "  <thead>\n",
       "    <tr style=\"text-align: right;\">\n",
       "      <th></th>\n",
       "      <th>X</th>\n",
       "      <th>Y</th>\n",
       "      <th>X-x̄</th>\n",
       "      <th>Y-ȳ</th>\n",
       "      <th>(X-x̄)*(Y-ȳ)</th>\n",
       "      <th>X-x̄^2</th>\n",
       "    </tr>\n",
       "  </thead>\n",
       "  <tbody>\n",
       "    <tr>\n",
       "      <th>16</th>\n",
       "      <td>2000</td>\n",
       "      <td>11.12</td>\n",
       "      <td>25.142857</td>\n",
       "      <td>-0.038095</td>\n",
       "      <td>-0.957823</td>\n",
       "      <td>632.163265</td>\n",
       "    </tr>\n",
       "    <tr>\n",
       "      <th>17</th>\n",
       "      <td>2004</td>\n",
       "      <td>10.93</td>\n",
       "      <td>29.142857</td>\n",
       "      <td>-0.228095</td>\n",
       "      <td>-6.647347</td>\n",
       "      <td>849.306122</td>\n",
       "    </tr>\n",
       "    <tr>\n",
       "      <th>18</th>\n",
       "      <td>2008</td>\n",
       "      <td>10.78</td>\n",
       "      <td>33.142857</td>\n",
       "      <td>-0.378095</td>\n",
       "      <td>-12.531156</td>\n",
       "      <td>1098.448980</td>\n",
       "    </tr>\n",
       "    <tr>\n",
       "      <th>19</th>\n",
       "      <td>2012</td>\n",
       "      <td>10.75</td>\n",
       "      <td>37.142857</td>\n",
       "      <td>-0.408095</td>\n",
       "      <td>-15.157823</td>\n",
       "      <td>1379.591837</td>\n",
       "    </tr>\n",
       "    <tr>\n",
       "      <th>20</th>\n",
       "      <td>2016</td>\n",
       "      <td>10.71</td>\n",
       "      <td>41.142857</td>\n",
       "      <td>-0.448095</td>\n",
       "      <td>-18.435918</td>\n",
       "      <td>1692.734694</td>\n",
       "    </tr>\n",
       "  </tbody>\n",
       "</table>\n",
       "</div>"
      ],
      "text/plain": [
       "       X      Y       X-x̄      Y-ȳ  (X-x̄)*(Y-ȳ)       X-x̄^2\n",
       "16  2000  11.12  25.142857 -0.038095      -0.957823   632.163265\n",
       "17  2004  10.93  29.142857 -0.228095      -6.647347   849.306122\n",
       "18  2008  10.78  33.142857 -0.378095     -12.531156  1098.448980\n",
       "19  2012  10.75  37.142857 -0.408095     -15.157823  1379.591837\n",
       "20  2016  10.71  41.142857 -0.448095     -18.435918  1692.734694"
      ]
     },
     "execution_count": 100,
     "metadata": {},
     "output_type": "execute_result"
    }
   ],
   "source": [
    "df.tail()"
   ]
  },
  {
   "cell_type": "code",
   "execution_count": 101,
   "metadata": {},
   "outputs": [
    {
     "data": {
      "text/plain": [
       "(21, 6)"
      ]
     },
     "execution_count": 101,
     "metadata": {},
     "output_type": "execute_result"
    }
   ],
   "source": [
    "df.shape"
   ]
  },
  {
   "cell_type": "markdown",
   "metadata": {},
   "source": [
    "## Lets Plot heat map and Closely take a look on X-x̄^2 column"
   ]
  },
  {
   "cell_type": "code",
   "execution_count": 102,
   "metadata": {},
   "outputs": [
    {
     "data": {
      "text/plain": [
       "<AxesSubplot:>"
      ]
     },
     "execution_count": 102,
     "metadata": {},
     "output_type": "execute_result"
    },
    {
     "data": {
      "image/png": "[encoded data removed]",
      "text/plain": [
       "<Figure size 864x864 with 2 Axes>"
      ]
     },
     "metadata": {
      "needs_background": "light"
     },
     "output_type": "display_data"
    }
   ],
   "source": [
    "fig, ax = plt.subplots(1, figsize=(12,12))\n",
    "plt.tick_params(axis='both', which='major', labelsize=15, labelbottom = False, bottom=False, top = False, labeltop=True)\n",
    "sns.heatmap(df, annot=True,cmap=\"YlGnBu\",fmt='g', linewidths=.3)"
   ]
  },
  {
   "cell_type": "markdown",
   "metadata": {},
   "source": [
    "## Lets Find sum of upper array"
   ]
  },
  {
   "cell_type": "code",
   "execution_count": 103,
   "metadata": {},
   "outputs": [
    {
     "data": {
      "text/plain": [
       "-188.0057142857143"
      ]
     },
     "execution_count": 103,
     "metadata": {},
     "output_type": "execute_result"
    }
   ],
   "source": [
    "upperSum = 0\n",
    "for i in range(len(upper)):\n",
    "    upperSum+=upper[i]\n",
    "upperSum"
   ]
  },
  {
   "cell_type": "markdown",
   "metadata": {},
   "source": [
    "## Lets Find sum of lower array"
   ]
  },
  {
   "cell_type": "code",
   "execution_count": 104,
   "metadata": {},
   "outputs": [
    {
     "data": {
      "text/plain": [
       "14212.571428571424"
      ]
     },
     "execution_count": 104,
     "metadata": {},
     "output_type": "execute_result"
    }
   ],
   "source": [
    "lowerSum = 0\n",
    "for i in range(len(lower)):\n",
    "    lowerSum+=lower[i]\n",
    "lowerSum"
   ]
  },
  {
   "cell_type": "markdown",
   "metadata": {},
   "source": [
    "## Lets Find B1(Coefficient)"
   ]
  },
  {
   "cell_type": "code",
   "execution_count": 105,
   "metadata": {},
   "outputs": [
    {
     "data": {
      "text/plain": [
       "-0.013228128015439053"
      ]
     },
     "execution_count": 105,
     "metadata": {},
     "output_type": "execute_result"
    }
   ],
   "source": [
    "B1 = upperSum / lowerSum\n",
    "B1"
   ]
  },
  {
   "cell_type": "code",
   "execution_count": 106,
   "metadata": {},
   "outputs": [
    {
     "data": {
      "text/plain": [
       "-0.013228128015439053"
      ]
     },
     "execution_count": 106,
     "metadata": {},
     "output_type": "execute_result"
    }
   ],
   "source": [
    "B1 "
   ]
  },
  {
   "cell_type": "markdown",
   "metadata": {},
   "source": [
    "## Lets find B0(intercept)"
   ]
  },
  {
   "cell_type": "code",
   "execution_count": 107,
   "metadata": {},
   "outputs": [],
   "source": [
    "B0 = yBar - B1 * xBar"
   ]
  },
  {
   "cell_type": "code",
   "execution_count": 108,
   "metadata": {},
   "outputs": [
    {
     "data": {
      "text/plain": [
       "37.28175833601373"
      ]
     },
     "execution_count": 108,
     "metadata": {},
     "output_type": "execute_result"
    }
   ],
   "source": [
    "B0"
   ]
  },
  {
   "cell_type": "markdown",
   "metadata": {},
   "source": [
    "## Let's plot our line of best fit"
   ]
  },
  {
   "cell_type": "code",
   "execution_count": 109,
   "metadata": {},
   "outputs": [
    {
     "data": {
      "image/png": "[encoded data removed]",
      "text/plain": [
       "<Figure size 432x288 with 1 Axes>"
      ]
     },
     "metadata": {
      "needs_background": "light"
     },
     "output_type": "display_data"
    }
   ],
   "source": [
    "# Create a list of values in the best fit line\n",
    "abline_values = [B1 * i + B0 for i in df['X']]\n",
    "# Plot the best fit line over the actual values\n",
    "plt.plot(X, Y, '--',c='y')\n",
    "plt.plot(X, abline_values, c='r')\n",
    "plt.title(\"B1 = \"+str(B1))\n",
    "plt.show()"
   ]
  },
  {
   "cell_type": "markdown",
   "metadata": {},
   "source": [
    "## and Finnaly we got our forcasted value with mean"
   ]
  },
  {
   "cell_type": "code",
   "execution_count": 110,
   "metadata": {},
   "outputs": [],
   "source": [
    "yPred = B0 + B1 * xBar"
   ]
  },
  {
   "cell_type": "code",
   "execution_count": 111,
   "metadata": {},
   "outputs": [
    {
     "data": {
      "text/plain": [
       "11.158095238095235"
      ]
     },
     "execution_count": 111,
     "metadata": {},
     "output_type": "execute_result"
    }
   ],
   "source": [
    "yPred"
   ]
  },
  {
   "cell_type": "markdown",
   "metadata": {},
   "source": [
    "## let's find R'2\n",
    "### it defines how well our line is fitted towards data points"
   ]
  },
  {
   "cell_type": "markdown",
   "metadata": {},
   "source": [
    "## let's find sigma X"
   ]
  },
  {
   "cell_type": "code",
   "execution_count": 112,
   "metadata": {},
   "outputs": [],
   "source": [
    "sigX = lowerSum / len(X)"
   ]
  },
  {
   "cell_type": "code",
   "execution_count": 113,
   "metadata": {},
   "outputs": [
    {
     "data": {
      "text/plain": [
       "676.7891156462583"
      ]
     },
     "execution_count": 113,
     "metadata": {},
     "output_type": "execute_result"
    }
   ],
   "source": [
    "sigX"
   ]
  },
  {
   "cell_type": "markdown",
   "metadata": {},
   "source": [
    "## let's find sigma Y"
   ]
  },
  {
   "cell_type": "code",
   "execution_count": 114,
   "metadata": {},
   "outputs": [],
   "source": [
    "yMin_yBar = np.array(yMin_yBar)"
   ]
  },
  {
   "cell_type": "code",
   "execution_count": 115,
   "metadata": {},
   "outputs": [],
   "source": [
    "yMin_yBar_Sqr = yMin_yBar * yMin_yBar "
   ]
  },
  {
   "cell_type": "code",
   "execution_count": 116,
   "metadata": {},
   "outputs": [
    {
     "data": {
      "text/plain": [
       "3.695323809523811"
      ]
     },
     "execution_count": 116,
     "metadata": {},
     "output_type": "execute_result"
    }
   ],
   "source": [
    "yMin_yBar_Sqr_sum = 0\n",
    "for i in range(len(yMin_yBar_Sqr)):\n",
    "    yMin_yBar_Sqr_sum+=yMin_yBar_Sqr[i]\n",
    "yMin_yBar_Sqr_sum"
   ]
  },
  {
   "cell_type": "code",
   "execution_count": 117,
   "metadata": {},
   "outputs": [],
   "source": [
    "sigY = yMin_yBar_Sqr_sum * 1 / len(Y)"
   ]
  },
  {
   "cell_type": "code",
   "execution_count": 118,
   "metadata": {},
   "outputs": [
    {
     "data": {
      "text/plain": [
       "0.1759678004535148"
      ]
     },
     "execution_count": 118,
     "metadata": {},
     "output_type": "execute_result"
    }
   ],
   "source": [
    "sigY"
   ]
  },
  {
   "cell_type": "markdown",
   "metadata": {},
   "source": [
    "# Finnaly Let's Find R'2(Coefficient of Determination)"
   ]
  },
  {
   "cell_type": "code",
   "execution_count": 119,
   "metadata": {},
   "outputs": [],
   "source": [
    "R_Square = np.square(upperSum*(1/len(df['X'])))/(sigX * sigY)"
   ]
  },
  {
   "cell_type": "code",
   "execution_count": 120,
   "metadata": {},
   "outputs": [
    {
     "data": {
      "text/plain": [
       "0.6730029043181371"
      ]
     },
     "execution_count": 120,
     "metadata": {},
     "output_type": "execute_result"
    }
   ],
   "source": [
    "R_Square"
   ]
  },
  {
   "cell_type": "markdown",
   "metadata": {},
   "source": [
    "## Let's plot regression plot using seaborn"
   ]
  },
  {
   "cell_type": "code",
   "execution_count": 121,
   "metadata": {},
   "outputs": [
    {
     "data": {
      "text/plain": [
       "[Text(0.5, 0, 'Year'), Text(0, 0.5, 'Time taken (sec)')]"
      ]
     },
     "execution_count": 121,
     "metadata": {},
     "output_type": "execute_result"
    },
    {
     "data": {
      "image/png": "[encoded data removed]",
      "text/plain": [
       "<Figure size 432x288 with 1 Axes>"
      ]
     },
     "metadata": {
      "needs_background": "light"
     },
     "output_type": "display_data"
    }
   ],
   "source": [
    "ax = sns.regplot(x=X,y=Y,data=df)\n",
    "ax = sns.scatterplot(x=df['X'],y=df['Y'],marker='x')\n",
    "ax.set(xlabel=\"Year\", ylabel = \"Time taken (sec)\")"
   ]
  },
  {
   "cell_type": "code",
   "execution_count": 122,
   "metadata": {},
   "outputs": [],
   "source": [
    "from sklearn.linear_model import LinearRegression"
   ]
  },
  {
   "cell_type": "code",
   "execution_count": 123,
   "metadata": {},
   "outputs": [],
   "source": [
    "reg = LinearRegression().fit(df[['X']],df['Y'])"
   ]
  },
  {
   "cell_type": "code",
   "execution_count": 124,
   "metadata": {},
   "outputs": [
    {
     "data": {
      "text/plain": [
       "37.28175833601373"
      ]
     },
     "execution_count": 124,
     "metadata": {},
     "output_type": "execute_result"
    }
   ],
   "source": [
    "reg.intercept_"
   ]
  },
  {
   "cell_type": "code",
   "execution_count": 125,
   "metadata": {},
   "outputs": [
    {
     "data": {
      "text/plain": [
       "37.28175833601373"
      ]
     },
     "execution_count": 125,
     "metadata": {},
     "output_type": "execute_result"
    }
   ],
   "source": [
    "B0"
   ]
  },
  {
   "cell_type": "code",
   "execution_count": 126,
   "metadata": {},
   "outputs": [
    {
     "data": {
      "text/plain": [
       "array([-0.01322813])"
      ]
     },
     "execution_count": 126,
     "metadata": {},
     "output_type": "execute_result"
    }
   ],
   "source": [
    "reg.coef_"
   ]
  },
  {
   "cell_type": "code",
   "execution_count": 127,
   "metadata": {},
   "outputs": [
    {
     "data": {
      "text/plain": [
       "-0.013228128015439053"
      ]
     },
     "execution_count": 127,
     "metadata": {},
     "output_type": "execute_result"
    }
   ],
   "source": [
    "B1"
   ]
  },
  {
   "cell_type": "code",
   "execution_count": 128,
   "metadata": {},
   "outputs": [
    {
     "data": {
      "text/plain": [
       "0.6730029043181373"
      ]
     },
     "execution_count": 128,
     "metadata": {},
     "output_type": "execute_result"
    }
   ],
   "source": [
    "correlation_matrix = np.corrcoef(X, Y)\n",
    "\n",
    "correlation_xy = correlation_matrix[0,1]\n",
    "\n",
    "r_squared = correlation_xy**2\n",
    "r_squared"
   ]
  },
  {
   "cell_type": "code",
   "execution_count": 129,
   "metadata": {},
   "outputs": [
    {
     "data": {
      "text/plain": [
       "0.6730029043181371"
      ]
     },
     "execution_count": 129,
     "metadata": {},
     "output_type": "execute_result"
    }
   ],
   "source": [
    "R_Square"
   ]
  },
  {
   "cell_type": "markdown",
   "metadata": {},
   "source": [
    "<table class=\"dcf-table dcf-table-responsive dcf-table-bordered dcf-table-striped dcf-w-100%\">\n",
    "\t<thead>\n",
    "        <caption>comparison</caption>\n",
    "\t\t<tr>\n",
    "\t\t\t<th class=\"dcf-txt-center\" scope=\"col\">Sr No.</th>\n",
    "\t\t\t<th class=\"dcf-txt-center\" scope=\"col\">Var</th>\n",
    "\t\t\t<th class=\"dcf-txt-center\" scope=\"col\">Value</th>\n",
    "\t\t</tr>\n",
    "\t</thead>\n",
    "\t<tbody>\n",
    "\t\t<tr>\n",
    "\t\t\t<th class=\"dcf-txt-center\" scope=\"row\">1</th>\n",
    "\t\t\t<td class=\"dcf-txt-center\" data-label=\"Var\">x̄</td>\n",
    "\t\t\t<td class=\"dcf-txt-center\" data-label=\"Value\">1974.857142857143</td>\n",
    "\t\t</tr>\n",
    "\t\t<tr>\n",
    "\t\t\t<th class=\"dcf-txt-center\" scope=\"row\">2</th>\n",
    "\t\t\t<td class=\"dcf-txt-center\" data-label=\"Var\">ȳ</td>\n",
    "\t\t\t<td class=\"dcf-txt-center\" data-label=\"Value\">11.158095238095237</td>\n",
    "\t\t</tr>\n",
    "\t\t<tr>\n",
    "\t\t\t<th class=\"dcf-txt-center\" scope=\"row\"></th>\n",
    "\t\t\t<td class=\"dcf-txt-center\" data-label=\"Var\"></td>\n",
    "\t\t\t<td class=\"dcf-txt-center\" data-label=\"Value\"></td>\n",
    "\t\t</tr>\n",
    "\t</tbody>\n",
    "</table>"
   ]
  },
  {
   "cell_type": "markdown",
   "metadata": {},
   "source": [
    "<table class=\"dcf-table dcf-table-responsive dcf-table-bordered dcf-table-striped dcf-w-100%\">\n",
    "\t<caption>comparison</caption>\n",
    "\t<thead>\n",
    "\t\t<tr>\n",
    "\t\t\t<th scope=\"col\">Sr No.</th>\n",
    "\t\t\t<th scope=\"col\">Values</th>\n",
    "\t\t\t<th scope=\"col\">Without Sklearn</th>\n",
    "\t\t\t<th scope=\"col\">Using Sklearn</th>\n",
    "\t\t</tr>\n",
    "\t</thead>\n",
    "\t<tbody>\n",
    "\t\t<tr>\n",
    "\t\t\t<th scope=\"row\">1</th>\n",
    "\t\t\t<td data-label=\"Var\">B0(intercept)</td>\n",
    "\t\t\t<td data-label=\"Without Sk learn\">37.28175833601373</td>\n",
    "\t\t\t<td data-label=\"Using Sklearn\">37.28175833601373</td>\n",
    "\t\t</tr>\n",
    "\t\t<tr>\n",
    "\t\t\t<th scope=\"row\">2</th>\n",
    "\t\t\t<td data-label=\"Var\">B1(Coefficient)</td>\n",
    "\t\t\t<td data-label=\"Without Sk learn\">-0.013228128015439053</td>\n",
    "\t\t\t<td data-label=\"Using Sklearn\">-0.01322813\n",
    "</td>\n",
    "\t\t</tr>\n",
    "\t\t<tr>\n",
    "\t\t\t<th scope=\"row\">3</th>\n",
    "\t\t\t<td data-label=\"Var\">R^2(Coefficient of Determination)</td>\n",
    "\t\t\t<td data-label=\"Without Sk learn\">0.6730029043181371</td>\n",
    "\t\t\t<td data-label=\"Using Sklearn\">0.6730029043181373</td>\n",
    "\t\t</tr>\n",
    "\t</tbody>\n",
    "</table>"
   ]
  },
  {
   "cell_type": "code",
   "execution_count": 131,
   "metadata": {},
   "outputs": [
    {
     "name": "stdout",
     "output_type": "stream",
     "text": [
      "enter year :- 2020\n",
      "10.560939744826843 Sec (estimated)\n"
     ]
    }
   ],
   "source": [
    "inp = int(input(\"enter year :- \"))\n",
    "Yhat = B0 + B1 * inp\n",
    "print(str(Yhat)+\" Sec (estimated)\")"
   ]
  },
  {
   "cell_type": "markdown",
   "metadata": {},
   "source": [
    "## Results are finaly here \n",
    "our model is very much closer to forcat exact value for year 2020 which is 10:61, breaking the Olympic Record by 0.01 seconds. Shelly-Ann Fraser-Pryce came second at 10:74 with Shericka Jackson at 10:76."
   ]
  },
  {
   "cell_type": "markdown",
   "metadata": {},
   "source": [
    "Source : https://economictimes.indiatimes.com/news/sports/tokyo-olympics-2020-jamaicas-elaine-thompson-herah-wins-womens-100m-race-breaks-flo-jos-olympic-record/videoshow/84929018.cms"
   ]
  },
  {
   "cell_type": "code",
   "execution_count": null,
   "metadata": {},
   "outputs": [],
   "source": []
  },
  {
   "cell_type": "code",
   "execution_count": null,
   "metadata": {},
   "outputs": [],
   "source": []
  },
  {
   "cell_type": "code",
   "execution_count": null,
   "metadata": {},
   "outputs": [],
   "source": []
  },
  {
   "cell_type": "code",
   "execution_count": null,
   "metadata": {},
   "outputs": [],
   "source": []
  }
 ],
 "metadata": {
  "kernelspec": {
   "display_name": "Python 3",
   "language": "python",
   "name": "python3"
  },
  "language_info": {
   "codemirror_mode": {
    "name": "ipython",
    "version": 3
   },
   "file_extension": ".py",
   "mimetype": "text/x-python",
   "name": "python",
   "nbconvert_exporter": "python",
   "pygments_lexer": "ipython3",
   "version": "3.8.5"
  }
 },
 "nbformat": 4,
 "nbformat_minor": 4
}
